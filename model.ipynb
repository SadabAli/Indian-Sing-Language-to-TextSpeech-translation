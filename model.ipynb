{
 "cells": [
  {
   "cell_type": "code",
   "execution_count": 1,
   "metadata": {},
   "outputs": [
    {
     "name": "stdout",
     "output_type": "stream",
     "text": [
      "Collecting opencv-python\n",
      "  Downloading opencv_python-4.11.0.86-cp37-abi3-win_amd64.whl.metadata (20 kB)\n",
      "Requirement already satisfied: numpy>=1.21.2 in c:\\users\\user\\appdata\\local\\programs\\python\\python312\\lib\\site-packages (from opencv-python) (2.0.2)\n",
      "Downloading opencv_python-4.11.0.86-cp37-abi3-win_amd64.whl (39.5 MB)\n",
      "   ---------------------------------------- 0.0/39.5 MB ? eta -:--:--\n",
      "   ---------------------------------------- 0.0/39.5 MB ? eta -:--:--\n",
      "   ---------------------------------------- 0.0/39.5 MB 487.6 kB/s eta 0:01:21\n",
      "   ---------------------------------------- 0.1/39.5 MB 726.2 kB/s eta 0:00:55\n",
      "   ---------------------------------------- 0.2/39.5 MB 871.5 kB/s eta 0:00:46\n",
      "   ---------------------------------------- 0.2/39.5 MB 981.9 kB/s eta 0:00:40\n",
      "   ---------------------------------------- 0.3/39.5 MB 1.0 MB/s eta 0:00:38\n",
      "   ---------------------------------------- 0.4/39.5 MB 1.1 MB/s eta 0:00:36\n",
      "   ---------------------------------------- 0.5/39.5 MB 1.2 MB/s eta 0:00:32\n",
      "    --------------------------------------- 0.5/39.5 MB 1.3 MB/s eta 0:00:31\n",
      "    --------------------------------------- 0.6/39.5 MB 1.3 MB/s eta 0:00:31\n",
      "    --------------------------------------- 0.7/39.5 MB 1.3 MB/s eta 0:00:30\n",
      "    --------------------------------------- 0.8/39.5 MB 1.4 MB/s eta 0:00:28\n",
      "    --------------------------------------- 0.9/39.5 MB 1.5 MB/s eta 0:00:26\n",
      "   - -------------------------------------- 1.1/39.5 MB 1.6 MB/s eta 0:00:24\n",
      "   - -------------------------------------- 1.2/39.5 MB 1.7 MB/s eta 0:00:23\n",
      "   - -------------------------------------- 1.3/39.5 MB 1.8 MB/s eta 0:00:22\n",
      "   - -------------------------------------- 1.5/39.5 MB 1.9 MB/s eta 0:00:20\n",
      "   - -------------------------------------- 1.8/39.5 MB 2.1 MB/s eta 0:00:19\n",
      "   - -------------------------------------- 1.9/39.5 MB 2.2 MB/s eta 0:00:18\n",
      "   - -------------------------------------- 1.9/39.5 MB 2.2 MB/s eta 0:00:18\n",
      "   -- ------------------------------------- 2.1/39.5 MB 2.0 MB/s eta 0:00:19\n",
      "   -- ------------------------------------- 2.2/39.5 MB 2.1 MB/s eta 0:00:18\n",
      "   -- ------------------------------------- 2.4/39.5 MB 2.2 MB/s eta 0:00:17\n",
      "   -- ------------------------------------- 2.6/39.5 MB 2.3 MB/s eta 0:00:16\n",
      "   -- ------------------------------------- 2.9/39.5 MB 2.5 MB/s eta 0:00:15\n",
      "   --- ------------------------------------ 3.2/39.5 MB 2.6 MB/s eta 0:00:15\n",
      "   --- ------------------------------------ 3.3/39.5 MB 2.6 MB/s eta 0:00:14\n",
      "   --- ------------------------------------ 3.7/39.5 MB 2.8 MB/s eta 0:00:13\n",
      "   --- ------------------------------------ 3.8/39.5 MB 2.8 MB/s eta 0:00:13\n",
      "   --- ------------------------------------ 3.9/39.5 MB 2.8 MB/s eta 0:00:13\n",
      "   --- ------------------------------------ 3.9/39.5 MB 2.7 MB/s eta 0:00:14\n",
      "   ---- ----------------------------------- 4.2/39.5 MB 2.8 MB/s eta 0:00:13\n",
      "   ---- ----------------------------------- 4.6/39.5 MB 3.0 MB/s eta 0:00:12\n",
      "   ---- ----------------------------------- 4.9/39.5 MB 3.1 MB/s eta 0:00:12\n",
      "   ----- ---------------------------------- 5.3/39.5 MB 3.2 MB/s eta 0:00:11\n",
      "   ----- ---------------------------------- 5.7/39.5 MB 3.4 MB/s eta 0:00:11\n",
      "   ------ --------------------------------- 6.1/39.5 MB 3.5 MB/s eta 0:00:10\n",
      "   ------ --------------------------------- 6.6/39.5 MB 3.6 MB/s eta 0:00:10\n",
      "   ------- -------------------------------- 7.0/39.5 MB 3.8 MB/s eta 0:00:09\n",
      "   ------- -------------------------------- 7.6/39.5 MB 4.0 MB/s eta 0:00:08\n",
      "   -------- ------------------------------- 8.0/39.5 MB 4.1 MB/s eta 0:00:08\n",
      "   -------- ------------------------------- 8.3/39.5 MB 4.2 MB/s eta 0:00:08\n",
      "   -------- ------------------------------- 8.4/39.5 MB 4.1 MB/s eta 0:00:08\n",
      "   -------- ------------------------------- 8.6/39.5 MB 4.1 MB/s eta 0:00:08\n",
      "   --------- ------------------------------ 9.5/39.5 MB 4.4 MB/s eta 0:00:07\n",
      "   --------- ------------------------------ 9.6/39.5 MB 4.4 MB/s eta 0:00:07\n",
      "   ---------- ----------------------------- 10.1/39.5 MB 4.4 MB/s eta 0:00:07\n",
      "   ---------- ----------------------------- 10.5/39.5 MB 5.0 MB/s eta 0:00:06\n",
      "   ----------- ---------------------------- 11.7/39.5 MB 6.2 MB/s eta 0:00:05\n",
      "   ------------- -------------------------- 13.7/39.5 MB 8.2 MB/s eta 0:00:04\n",
      "   -------------- ------------------------- 14.4/39.5 MB 9.4 MB/s eta 0:00:03\n",
      "   --------------- ------------------------ 15.4/39.5 MB 9.9 MB/s eta 0:00:03\n",
      "   ---------------- ----------------------- 16.1/39.5 MB 10.4 MB/s eta 0:00:03\n",
      "   ----------------- ---------------------- 17.4/39.5 MB 11.5 MB/s eta 0:00:02\n",
      "   ------------------ --------------------- 18.3/39.5 MB 11.7 MB/s eta 0:00:02\n",
      "   ------------------ --------------------- 18.7/39.5 MB 12.6 MB/s eta 0:00:02\n",
      "   -------------------- ------------------- 19.9/39.5 MB 14.9 MB/s eta 0:00:02\n",
      "   -------------------- ------------------- 20.5/39.5 MB 14.9 MB/s eta 0:00:02\n",
      "   --------------------- ------------------ 21.5/39.5 MB 15.2 MB/s eta 0:00:02\n",
      "   ---------------------- ----------------- 22.1/39.5 MB 16.0 MB/s eta 0:00:02\n",
      "   ----------------------- ---------------- 22.8/39.5 MB 16.4 MB/s eta 0:00:02\n",
      "   ----------------------- ---------------- 23.6/39.5 MB 15.6 MB/s eta 0:00:02\n",
      "   --------------------------- ------------ 27.4/39.5 MB 16.8 MB/s eta 0:00:01\n",
      "   ------------------------------ --------- 30.6/39.5 MB 16.8 MB/s eta 0:00:01\n",
      "   -------------------------------- ------- 32.1/39.5 MB 16.8 MB/s eta 0:00:01\n",
      "   ----------------------------------- ---- 35.1/39.5 MB 17.7 MB/s eta 0:00:01\n",
      "   ------------------------------------- -- 36.7/39.5 MB 17.7 MB/s eta 0:00:01\n",
      "   -------------------------------------- - 37.8/39.5 MB 19.3 MB/s eta 0:00:01\n",
      "   ---------------------------------------  39.4/39.5 MB 20.5 MB/s eta 0:00:01\n",
      "   ---------------------------------------  39.5/39.5 MB 19.8 MB/s eta 0:00:01\n",
      "   ---------------------------------------  39.5/39.5 MB 19.8 MB/s eta 0:00:01\n",
      "   ---------------------------------------- 39.5/39.5 MB 15.9 MB/s eta 0:00:00\n",
      "Installing collected packages: opencv-python\n",
      "Successfully installed opencv-python-4.11.0.86\n",
      "Note: you may need to restart the kernel to use updated packages.\n"
     ]
    },
    {
     "name": "stderr",
     "output_type": "stream",
     "text": [
      "\n",
      "[notice] A new release of pip is available: 24.0 -> 24.3.1\n",
      "[notice] To update, run: python.exe -m pip install --upgrade pip\n"
     ]
    }
   ],
   "source": [
    "pip install opencv-python\n"
   ]
  },
  {
   "cell_type": "code",
   "execution_count": 1,
   "metadata": {},
   "outputs": [
    {
     "name": "stdout",
     "output_type": "stream",
     "text": [
      "Collecting mediapipe\n",
      "  Using cached mediapipe-0.10.20-cp312-cp312-win_amd64.whl.metadata (9.9 kB)\n",
      "Requirement already satisfied: absl-py in c:\\users\\user\\appdata\\local\\programs\\python\\python312\\lib\\site-packages (from mediapipe) (2.1.0)\n",
      "Collecting attrs>=19.1.0 (from mediapipe)\n",
      "  Using cached attrs-24.3.0-py3-none-any.whl.metadata (11 kB)\n",
      "Requirement already satisfied: flatbuffers>=2.0 in c:\\users\\user\\appdata\\local\\programs\\python\\python312\\lib\\site-packages (from mediapipe) (24.12.23)\n",
      "Collecting jax (from mediapipe)\n",
      "  Using cached jax-0.5.0-py3-none-any.whl.metadata (22 kB)\n",
      "Collecting jaxlib (from mediapipe)\n",
      "  Using cached jaxlib-0.5.0-cp312-cp312-win_amd64.whl.metadata (1.0 kB)\n",
      "Collecting matplotlib (from mediapipe)\n",
      "  Using cached matplotlib-3.10.0-cp312-cp312-win_amd64.whl.metadata (11 kB)\n",
      "Requirement already satisfied: numpy<2 in c:\\users\\user\\appdata\\local\\programs\\python\\python312\\lib\\site-packages (from mediapipe) (1.26.4)\n",
      "Collecting opencv-contrib-python (from mediapipe)\n",
      "  Using cached opencv_contrib_python-4.11.0.86-cp37-abi3-win_amd64.whl.metadata (20 kB)\n",
      "Requirement already satisfied: protobuf<5,>=4.25.3 in c:\\users\\user\\appdata\\local\\programs\\python\\python312\\lib\\site-packages (from mediapipe) (4.25.5)\n",
      "Collecting sounddevice>=0.4.4 (from mediapipe)\n",
      "  Using cached sounddevice-0.5.1-py3-none-win_amd64.whl.metadata (1.4 kB)\n",
      "Requirement already satisfied: sentencepiece in c:\\users\\user\\appdata\\local\\programs\\python\\python312\\lib\\site-packages (from mediapipe) (0.2.0)\n",
      "Collecting CFFI>=1.0 (from sounddevice>=0.4.4->mediapipe)\n",
      "  Using cached cffi-1.17.1-cp312-cp312-win_amd64.whl.metadata (1.6 kB)\n",
      "Requirement already satisfied: ml_dtypes>=0.4.0 in c:\\users\\user\\appdata\\local\\programs\\python\\python312\\lib\\site-packages (from jax->mediapipe) (0.4.1)\n",
      "Requirement already satisfied: opt_einsum in c:\\users\\user\\appdata\\local\\programs\\python\\python312\\lib\\site-packages (from jax->mediapipe) (3.4.0)\n",
      "Requirement already satisfied: scipy>=1.11.1 in c:\\users\\user\\appdata\\local\\programs\\python\\python312\\lib\\site-packages (from jax->mediapipe) (1.15.1)\n",
      "Collecting contourpy>=1.0.1 (from matplotlib->mediapipe)\n",
      "  Using cached contourpy-1.3.1-cp312-cp312-win_amd64.whl.metadata (5.4 kB)\n",
      "Collecting cycler>=0.10 (from matplotlib->mediapipe)\n",
      "  Using cached cycler-0.12.1-py3-none-any.whl.metadata (3.8 kB)\n",
      "Collecting fonttools>=4.22.0 (from matplotlib->mediapipe)\n",
      "  Using cached fonttools-4.55.4-cp312-cp312-win_amd64.whl.metadata (169 kB)\n",
      "Collecting kiwisolver>=1.3.1 (from matplotlib->mediapipe)\n",
      "  Using cached kiwisolver-1.4.8-cp312-cp312-win_amd64.whl.metadata (6.3 kB)\n",
      "Requirement already satisfied: packaging>=20.0 in c:\\users\\user\\appdata\\roaming\\python\\python312\\site-packages (from matplotlib->mediapipe) (24.2)\n",
      "Requirement already satisfied: pillow>=8 in c:\\users\\user\\appdata\\local\\programs\\python\\python312\\lib\\site-packages (from matplotlib->mediapipe) (11.1.0)\n",
      "Requirement already satisfied: pyparsing>=2.3.1 in c:\\users\\user\\appdata\\local\\programs\\python\\python312\\lib\\site-packages (from matplotlib->mediapipe) (3.2.1)\n",
      "Requirement already satisfied: python-dateutil>=2.7 in c:\\users\\user\\appdata\\roaming\\python\\python312\\site-packages (from matplotlib->mediapipe) (2.9.0.post0)\n",
      "Requirement already satisfied: pycparser in c:\\users\\user\\appdata\\local\\programs\\python\\python312\\lib\\site-packages (from CFFI>=1.0->sounddevice>=0.4.4->mediapipe) (2.22)\n",
      "Requirement already satisfied: six>=1.5 in c:\\users\\user\\appdata\\roaming\\python\\python312\\site-packages (from python-dateutil>=2.7->matplotlib->mediapipe) (1.17.0)\n",
      "Using cached mediapipe-0.10.20-cp312-cp312-win_amd64.whl (51.0 MB)\n",
      "Using cached attrs-24.3.0-py3-none-any.whl (63 kB)\n",
      "Using cached sounddevice-0.5.1-py3-none-win_amd64.whl (363 kB)\n",
      "Using cached jax-0.5.0-py3-none-any.whl (2.3 MB)\n",
      "Using cached jaxlib-0.5.0-cp312-cp312-win_amd64.whl (63.9 MB)\n",
      "Using cached matplotlib-3.10.0-cp312-cp312-win_amd64.whl (8.0 MB)\n",
      "Using cached opencv_contrib_python-4.11.0.86-cp37-abi3-win_amd64.whl (46.2 MB)\n",
      "Using cached cffi-1.17.1-cp312-cp312-win_amd64.whl (181 kB)\n",
      "Using cached contourpy-1.3.1-cp312-cp312-win_amd64.whl (220 kB)\n",
      "Using cached cycler-0.12.1-py3-none-any.whl (8.3 kB)\n",
      "Using cached fonttools-4.55.4-cp312-cp312-win_amd64.whl (2.2 MB)\n",
      "Using cached kiwisolver-1.4.8-cp312-cp312-win_amd64.whl (71 kB)\n",
      "Installing collected packages: opencv-contrib-python, kiwisolver, fonttools, cycler, contourpy, CFFI, attrs, sounddevice, matplotlib, jaxlib, jax, mediapipe\n",
      "Successfully installed CFFI-1.17.1 attrs-24.3.0 contourpy-1.3.1 cycler-0.12.1 fonttools-4.55.4 jax-0.5.0 jaxlib-0.5.0 kiwisolver-1.4.8 matplotlib-3.10.0 mediapipe-0.10.20 opencv-contrib-python-4.11.0.86 sounddevice-0.5.1\n",
      "Note: you may need to restart the kernel to use updated packages.\n"
     ]
    },
    {
     "name": "stderr",
     "output_type": "stream",
     "text": [
      "  WARNING: The scripts fonttools.exe, pyftmerge.exe, pyftsubset.exe and ttx.exe are installed in 'c:\\Users\\USER\\AppData\\Local\\Programs\\Python\\Python312\\Scripts' which is not on PATH.\n",
      "  Consider adding this directory to PATH or, if you prefer to suppress this warning, use --no-warn-script-location.\n",
      "\n",
      "[notice] A new release of pip is available: 24.0 -> 24.3.1\n",
      "[notice] To update, run: python.exe -m pip install --upgrade pip\n"
     ]
    }
   ],
   "source": [
    "pip install mediapipe\n"
   ]
  },
  {
   "cell_type": "code",
   "execution_count": 2,
   "metadata": {},
   "outputs": [],
   "source": [
    "import os\n",
    "import cv2\n",
    "import numpy as np\n",
    "import mediapipe as mp\n",
    "from sklearn.model_selection import train_test_split\n",
    "from tensorflow.keras.models import Sequential\n",
    "from tensorflow.keras.layers import Dense, Dropout\n",
    "from tensorflow.keras.utils import to_categorical\n",
    "from tensorflow.keras.callbacks import ModelCheckpoint"
   ]
  },
  {
   "cell_type": "code",
   "execution_count": 3,
   "metadata": {},
   "outputs": [],
   "source": [
    "# Initialize MediaPipe Hands\n",
    "mp_hands = mp.solutions.hands\n",
    "mp_drawing = mp.solutions.drawing_utils\n",
    "hands = mp_hands.Hands(static_image_mode=True, max_num_hands=1, min_detection_confidence=0.5)\n"
   ]
  },
  {
   "cell_type": "code",
   "execution_count": 4,
   "metadata": {},
   "outputs": [],
   "source": [
    "# Dataset directory\n",
    "DATASET_DIR = \"SignImage48x48\""
   ]
  },
  {
   "cell_type": "code",
   "execution_count": 5,
   "metadata": {},
   "outputs": [],
   "source": [
    "def extract_hand_landmarks(image):\n",
    "    \"\"\"Extracts hand landmarks from an image using MediaPipe.\"\"\"\n",
    "    image_rgb = cv2.cvtColor(image, cv2.COLOR_BGR2RGB)\n",
    "    results = hands.process(image_rgb)\n",
    "    if results.multi_hand_landmarks:\n",
    "        for hand_landmarks in results.multi_hand_landmarks:\n",
    "            landmarks = []\n",
    "            for lm in hand_landmarks.landmark:\n",
    "                landmarks.append([lm.x, lm.y, lm.z])\n",
    "            return np.array(landmarks).flatten()\n",
    "    return None"
   ]
  },
  {
   "cell_type": "code",
   "execution_count": 8,
   "metadata": {},
   "outputs": [],
   "source": [
    "def load_data():\n",
    "    \"\"\"Loads the dataset, extracts hand landmarks, and prepares training data.\"\"\"\n",
    "    X, y = [], []\n",
    "    for label, sign_class in enumerate(CLASSES):\n",
    "        class_dir = os.path.join(DATASET_DIR, sign_class)\n",
    "        if not os.path.exists(class_dir):\n",
    "            continue\n",
    "        for file_name in os.listdir(class_dir):\n",
    "            file_path = os.path.join(class_dir, file_name)\n",
    "            image = cv2.imread(file_path)\n",
    "            if image is not None:\n",
    "                landmarks = extract_hand_landmarks(image)\n",
    "                if landmarks is not None:\n",
    "                    X.append(landmarks)\n",
    "                    y.append(label)\n",
    "\n",
    "    return np.array(X), np.array(y)\n"
   ]
  },
  {
   "cell_type": "code",
   "execution_count": 11,
   "metadata": {},
   "outputs": [
    {
     "name": "stdout",
     "output_type": "stream",
     "text": [
      "Loading data...\n"
     ]
    }
   ],
   "source": [
    "# Load dataset\n",
    "print(\"Loading data...\")\n",
    "CLASSES = [chr(i) for i in range(65, 91)]  # A-Z\n",
    "IMAGE_SIZE = 128\n"
   ]
  },
  {
   "cell_type": "code",
   "execution_count": 13,
   "metadata": {},
   "outputs": [
    {
     "name": "stdout",
     "output_type": "stream",
     "text": [
      "Loading data...\n",
      "Preprocessing data...\n"
     ]
    },
    {
     "name": "stderr",
     "output_type": "stream",
     "text": [
      "c:\\Users\\USER\\AppData\\Local\\Programs\\Python\\Python312\\Lib\\site-packages\\keras\\src\\layers\\core\\dense.py:87: UserWarning: Do not pass an `input_shape`/`input_dim` argument to a layer. When using Sequential models, prefer using an `Input(shape)` object as the first layer in the model instead.\n",
      "  super().__init__(activity_regularizer=activity_regularizer, **kwargs)\n"
     ]
    },
    {
     "data": {
      "text/html": [
       "<pre style=\"white-space:pre;overflow-x:auto;line-height:normal;font-family:Menlo,'DejaVu Sans Mono',consolas,'Courier New',monospace\"><span style=\"font-weight: bold\">Model: \"sequential\"</span>\n",
       "</pre>\n"
      ],
      "text/plain": [
       "\u001b[1mModel: \"sequential\"\u001b[0m\n"
      ]
     },
     "metadata": {},
     "output_type": "display_data"
    },
    {
     "data": {
      "text/html": [
       "<pre style=\"white-space:pre;overflow-x:auto;line-height:normal;font-family:Menlo,'DejaVu Sans Mono',consolas,'Courier New',monospace\">┏━━━━━━━━━━━━━━━━━━━━━━━━━━━━━━━━━┳━━━━━━━━━━━━━━━━━━━━━━━━┳━━━━━━━━━━━━━━━┓\n",
       "┃<span style=\"font-weight: bold\"> Layer (type)                    </span>┃<span style=\"font-weight: bold\"> Output Shape           </span>┃<span style=\"font-weight: bold\">       Param # </span>┃\n",
       "┡━━━━━━━━━━━━━━━━━━━━━━━━━━━━━━━━━╇━━━━━━━━━━━━━━━━━━━━━━━━╇━━━━━━━━━━━━━━━┩\n",
       "│ dense (<span style=\"color: #0087ff; text-decoration-color: #0087ff\">Dense</span>)                   │ (<span style=\"color: #00d7ff; text-decoration-color: #00d7ff\">None</span>, <span style=\"color: #00af00; text-decoration-color: #00af00\">128</span>)            │         <span style=\"color: #00af00; text-decoration-color: #00af00\">8,192</span> │\n",
       "├─────────────────────────────────┼────────────────────────┼───────────────┤\n",
       "│ dropout (<span style=\"color: #0087ff; text-decoration-color: #0087ff\">Dropout</span>)               │ (<span style=\"color: #00d7ff; text-decoration-color: #00d7ff\">None</span>, <span style=\"color: #00af00; text-decoration-color: #00af00\">128</span>)            │             <span style=\"color: #00af00; text-decoration-color: #00af00\">0</span> │\n",
       "├─────────────────────────────────┼────────────────────────┼───────────────┤\n",
       "│ dense_1 (<span style=\"color: #0087ff; text-decoration-color: #0087ff\">Dense</span>)                 │ (<span style=\"color: #00d7ff; text-decoration-color: #00d7ff\">None</span>, <span style=\"color: #00af00; text-decoration-color: #00af00\">64</span>)             │         <span style=\"color: #00af00; text-decoration-color: #00af00\">8,256</span> │\n",
       "├─────────────────────────────────┼────────────────────────┼───────────────┤\n",
       "│ dropout_1 (<span style=\"color: #0087ff; text-decoration-color: #0087ff\">Dropout</span>)             │ (<span style=\"color: #00d7ff; text-decoration-color: #00d7ff\">None</span>, <span style=\"color: #00af00; text-decoration-color: #00af00\">64</span>)             │             <span style=\"color: #00af00; text-decoration-color: #00af00\">0</span> │\n",
       "├─────────────────────────────────┼────────────────────────┼───────────────┤\n",
       "│ dense_2 (<span style=\"color: #0087ff; text-decoration-color: #0087ff\">Dense</span>)                 │ (<span style=\"color: #00d7ff; text-decoration-color: #00d7ff\">None</span>, <span style=\"color: #00af00; text-decoration-color: #00af00\">26</span>)             │         <span style=\"color: #00af00; text-decoration-color: #00af00\">1,690</span> │\n",
       "└─────────────────────────────────┴────────────────────────┴───────────────┘\n",
       "</pre>\n"
      ],
      "text/plain": [
       "┏━━━━━━━━━━━━━━━━━━━━━━━━━━━━━━━━━┳━━━━━━━━━━━━━━━━━━━━━━━━┳━━━━━━━━━━━━━━━┓\n",
       "┃\u001b[1m \u001b[0m\u001b[1mLayer (type)                   \u001b[0m\u001b[1m \u001b[0m┃\u001b[1m \u001b[0m\u001b[1mOutput Shape          \u001b[0m\u001b[1m \u001b[0m┃\u001b[1m \u001b[0m\u001b[1m      Param #\u001b[0m\u001b[1m \u001b[0m┃\n",
       "┡━━━━━━━━━━━━━━━━━━━━━━━━━━━━━━━━━╇━━━━━━━━━━━━━━━━━━━━━━━━╇━━━━━━━━━━━━━━━┩\n",
       "│ dense (\u001b[38;5;33mDense\u001b[0m)                   │ (\u001b[38;5;45mNone\u001b[0m, \u001b[38;5;34m128\u001b[0m)            │         \u001b[38;5;34m8,192\u001b[0m │\n",
       "├─────────────────────────────────┼────────────────────────┼───────────────┤\n",
       "│ dropout (\u001b[38;5;33mDropout\u001b[0m)               │ (\u001b[38;5;45mNone\u001b[0m, \u001b[38;5;34m128\u001b[0m)            │             \u001b[38;5;34m0\u001b[0m │\n",
       "├─────────────────────────────────┼────────────────────────┼───────────────┤\n",
       "│ dense_1 (\u001b[38;5;33mDense\u001b[0m)                 │ (\u001b[38;5;45mNone\u001b[0m, \u001b[38;5;34m64\u001b[0m)             │         \u001b[38;5;34m8,256\u001b[0m │\n",
       "├─────────────────────────────────┼────────────────────────┼───────────────┤\n",
       "│ dropout_1 (\u001b[38;5;33mDropout\u001b[0m)             │ (\u001b[38;5;45mNone\u001b[0m, \u001b[38;5;34m64\u001b[0m)             │             \u001b[38;5;34m0\u001b[0m │\n",
       "├─────────────────────────────────┼────────────────────────┼───────────────┤\n",
       "│ dense_2 (\u001b[38;5;33mDense\u001b[0m)                 │ (\u001b[38;5;45mNone\u001b[0m, \u001b[38;5;34m26\u001b[0m)             │         \u001b[38;5;34m1,690\u001b[0m │\n",
       "└─────────────────────────────────┴────────────────────────┴───────────────┘\n"
      ]
     },
     "metadata": {},
     "output_type": "display_data"
    },
    {
     "data": {
      "text/html": [
       "<pre style=\"white-space:pre;overflow-x:auto;line-height:normal;font-family:Menlo,'DejaVu Sans Mono',consolas,'Courier New',monospace\"><span style=\"font-weight: bold\"> Total params: </span><span style=\"color: #00af00; text-decoration-color: #00af00\">18,138</span> (70.85 KB)\n",
       "</pre>\n"
      ],
      "text/plain": [
       "\u001b[1m Total params: \u001b[0m\u001b[38;5;34m18,138\u001b[0m (70.85 KB)\n"
      ]
     },
     "metadata": {},
     "output_type": "display_data"
    },
    {
     "data": {
      "text/html": [
       "<pre style=\"white-space:pre;overflow-x:auto;line-height:normal;font-family:Menlo,'DejaVu Sans Mono',consolas,'Courier New',monospace\"><span style=\"font-weight: bold\"> Trainable params: </span><span style=\"color: #00af00; text-decoration-color: #00af00\">18,138</span> (70.85 KB)\n",
       "</pre>\n"
      ],
      "text/plain": [
       "\u001b[1m Trainable params: \u001b[0m\u001b[38;5;34m18,138\u001b[0m (70.85 KB)\n"
      ]
     },
     "metadata": {},
     "output_type": "display_data"
    },
    {
     "data": {
      "text/html": [
       "<pre style=\"white-space:pre;overflow-x:auto;line-height:normal;font-family:Menlo,'DejaVu Sans Mono',consolas,'Courier New',monospace\"><span style=\"font-weight: bold\"> Non-trainable params: </span><span style=\"color: #00af00; text-decoration-color: #00af00\">0</span> (0.00 B)\n",
       "</pre>\n"
      ],
      "text/plain": [
       "\u001b[1m Non-trainable params: \u001b[0m\u001b[38;5;34m0\u001b[0m (0.00 B)\n"
      ]
     },
     "metadata": {},
     "output_type": "display_data"
    },
    {
     "name": "stdout",
     "output_type": "stream",
     "text": [
      "Training the model...\n",
      "Epoch 1/20\n",
      "\u001b[1m4/4\u001b[0m \u001b[32m━━━━━━━━━━━━━━━━━━━━\u001b[0m\u001b[37m\u001b[0m \u001b[1m2s\u001b[0m 110ms/step - accuracy: 0.0565 - loss: 3.2167 - val_accuracy: 0.0000e+00 - val_loss: 3.1733\n",
      "Epoch 2/20\n",
      "\u001b[1m4/4\u001b[0m \u001b[32m━━━━━━━━━━━━━━━━━━━━\u001b[0m\u001b[37m\u001b[0m \u001b[1m0s\u001b[0m 35ms/step - accuracy: 0.1142 - loss: 3.1559 - val_accuracy: 0.2400 - val_loss: 3.0826\n",
      "Epoch 3/20\n",
      "\u001b[1m4/4\u001b[0m \u001b[32m━━━━━━━━━━━━━━━━━━━━\u001b[0m\u001b[37m\u001b[0m \u001b[1m0s\u001b[0m 86ms/step - accuracy: 0.1831 - loss: 3.0521 - val_accuracy: 0.2800 - val_loss: 2.9956\n",
      "Epoch 4/20\n",
      "\u001b[1m4/4\u001b[0m \u001b[32m━━━━━━━━━━━━━━━━━━━━\u001b[0m\u001b[37m\u001b[0m \u001b[1m0s\u001b[0m 42ms/step - accuracy: 0.2225 - loss: 2.9402 - val_accuracy: 0.2800 - val_loss: 2.9064\n",
      "Epoch 5/20\n",
      "\u001b[1m4/4\u001b[0m \u001b[32m━━━━━━━━━━━━━━━━━━━━\u001b[0m\u001b[37m\u001b[0m \u001b[1m0s\u001b[0m 37ms/step - accuracy: 0.2165 - loss: 2.7993 - val_accuracy: 0.3200 - val_loss: 2.8376\n",
      "Epoch 6/20\n",
      "\u001b[1m4/4\u001b[0m \u001b[32m━━━━━━━━━━━━━━━━━━━━\u001b[0m\u001b[37m\u001b[0m \u001b[1m0s\u001b[0m 43ms/step - accuracy: 0.2728 - loss: 2.8106 - val_accuracy: 0.3200 - val_loss: 2.7713\n",
      "Epoch 7/20\n",
      "\u001b[1m4/4\u001b[0m \u001b[32m━━━━━━━━━━━━━━━━━━━━\u001b[0m\u001b[37m\u001b[0m \u001b[1m0s\u001b[0m 52ms/step - accuracy: 0.2049 - loss: 2.7922 - val_accuracy: 0.3600 - val_loss: 2.7150\n",
      "Epoch 8/20\n",
      "\u001b[1m4/4\u001b[0m \u001b[32m━━━━━━━━━━━━━━━━━━━━\u001b[0m\u001b[37m\u001b[0m \u001b[1m0s\u001b[0m 41ms/step - accuracy: 0.2333 - loss: 2.7333 - val_accuracy: 0.3600 - val_loss: 2.6777\n",
      "Epoch 9/20\n",
      "\u001b[1m4/4\u001b[0m \u001b[32m━━━━━━━━━━━━━━━━━━━━\u001b[0m\u001b[37m\u001b[0m \u001b[1m0s\u001b[0m 77ms/step - accuracy: 0.2191 - loss: 2.6165 - val_accuracy: 0.2800 - val_loss: 2.6572\n",
      "Epoch 10/20\n",
      "\u001b[1m4/4\u001b[0m \u001b[32m━━━━━━━━━━━━━━━━━━━━\u001b[0m\u001b[37m\u001b[0m \u001b[1m0s\u001b[0m 61ms/step - accuracy: 0.2501 - loss: 2.5614 - val_accuracy: 0.2800 - val_loss: 2.6407\n",
      "Epoch 11/20\n",
      "\u001b[1m4/4\u001b[0m \u001b[32m━━━━━━━━━━━━━━━━━━━━\u001b[0m\u001b[37m\u001b[0m \u001b[1m0s\u001b[0m 68ms/step - accuracy: 0.2911 - loss: 2.4447 - val_accuracy: 0.2400 - val_loss: 2.6161\n",
      "Epoch 12/20\n",
      "\u001b[1m4/4\u001b[0m \u001b[32m━━━━━━━━━━━━━━━━━━━━\u001b[0m\u001b[37m\u001b[0m \u001b[1m0s\u001b[0m 52ms/step - accuracy: 0.2789 - loss: 2.6247 - val_accuracy: 0.2400 - val_loss: 2.5976\n",
      "Epoch 13/20\n",
      "\u001b[1m4/4\u001b[0m \u001b[32m━━━━━━━━━━━━━━━━━━━━\u001b[0m\u001b[37m\u001b[0m \u001b[1m0s\u001b[0m 93ms/step - accuracy: 0.3137 - loss: 2.5244 - val_accuracy: 0.2400 - val_loss: 2.5713\n",
      "Epoch 14/20\n",
      "\u001b[1m4/4\u001b[0m \u001b[32m━━━━━━━━━━━━━━━━━━━━\u001b[0m\u001b[37m\u001b[0m \u001b[1m1s\u001b[0m 71ms/step - accuracy: 0.2911 - loss: 2.3148 - val_accuracy: 0.2400 - val_loss: 2.5314\n",
      "Epoch 15/20\n",
      "\u001b[1m4/4\u001b[0m \u001b[32m━━━━━━━━━━━━━━━━━━━━\u001b[0m\u001b[37m\u001b[0m \u001b[1m0s\u001b[0m 87ms/step - accuracy: 0.3283 - loss: 2.4321 - val_accuracy: 0.2400 - val_loss: 2.4960\n",
      "Epoch 16/20\n",
      "\u001b[1m4/4\u001b[0m \u001b[32m━━━━━━━━━━━━━━━━━━━━\u001b[0m\u001b[37m\u001b[0m \u001b[1m0s\u001b[0m 61ms/step - accuracy: 0.3026 - loss: 2.4067 - val_accuracy: 0.2400 - val_loss: 2.4668\n",
      "Epoch 17/20\n",
      "\u001b[1m4/4\u001b[0m \u001b[32m━━━━━━━━━━━━━━━━━━━━\u001b[0m\u001b[37m\u001b[0m \u001b[1m0s\u001b[0m 52ms/step - accuracy: 0.3901 - loss: 2.2565 - val_accuracy: 0.2400 - val_loss: 2.4283\n",
      "Epoch 18/20\n",
      "\u001b[1m4/4\u001b[0m \u001b[32m━━━━━━━━━━━━━━━━━━━━\u001b[0m\u001b[37m\u001b[0m \u001b[1m0s\u001b[0m 52ms/step - accuracy: 0.3129 - loss: 2.2821 - val_accuracy: 0.3200 - val_loss: 2.3806\n",
      "Epoch 19/20\n",
      "\u001b[1m4/4\u001b[0m \u001b[32m━━━━━━━━━━━━━━━━━━━━\u001b[0m\u001b[37m\u001b[0m \u001b[1m0s\u001b[0m 114ms/step - accuracy: 0.3014 - loss: 2.3299 - val_accuracy: 0.4400 - val_loss: 2.3368\n",
      "Epoch 20/20\n",
      "\u001b[1m4/4\u001b[0m \u001b[32m━━━━━━━━━━━━━━━━━━━━\u001b[0m\u001b[37m\u001b[0m \u001b[1m0s\u001b[0m 55ms/step - accuracy: 0.3840 - loss: 2.1855 - val_accuracy: 0.4400 - val_loss: 2.3153\n"
     ]
    }
   ],
   "source": [
    "# Load dataset\n",
    "print(\"Loading data...\")\n",
    "X, y = load_data()\n",
    "\n",
    "# Check if data is loaded correctly\n",
    "if X.size == 0 or y.size == 0:\n",
    "    raise ValueError(\"Dataset is empty or not loaded correctly. Ensure the dataset directory is set up properly.\")\n",
    "\n",
    "# Preprocess data\n",
    "print(\"Preprocessing data...\")\n",
    "X = np.array(X, dtype=np.float32)\n",
    "y = to_categorical(y, num_classes=len(CLASSES))\n",
    "\n",
    "# Train-test split\n",
    "X_train, X_test, y_train, y_test = train_test_split(X, y, test_size=0.2, random_state=42)\n",
    "\n",
    "# Build CNN model\n",
    "model = Sequential([\n",
    "    Dense(128, activation='relu', input_shape=(X.shape[1],)),\n",
    "    Dropout(0.3),\n",
    "    Dense(64, activation='relu'),\n",
    "    Dropout(0.3),\n",
    "    Dense(len(CLASSES), activation='softmax')\n",
    "])\n",
    "\n",
    "model.compile(optimizer='adam', loss='categorical_crossentropy', metrics=['accuracy'])\n",
    "model.summary()\n",
    "\n",
    "# Train the model\n",
    "checkpoint = ModelCheckpoint(\"sign_language_model.keras\", save_best_only=True, monitor=\"val_loss\", mode=\"min\")\n",
    "\n",
    "print(\"Training the model...\")\n",
    "history = model.fit(\n",
    "    X_train, y_train,\n",
    "    validation_data=(X_test, y_test),\n",
    "    epochs=20,\n",
    "    batch_size=32,\n",
    "    callbacks=[checkpoint]\n",
    ")"
   ]
  },
  {
   "cell_type": "code",
   "execution_count": 14,
   "metadata": {},
   "outputs": [
    {
     "name": "stderr",
     "output_type": "stream",
     "text": [
      "WARNING:absl:The `save_format` argument is deprecated in Keras 3. We recommend removing this argument as it can be inferred from the file path. Received: save_format=keras\n"
     ]
    },
    {
     "name": "stdout",
     "output_type": "stream",
     "text": [
      "Model training complete and saved.\n"
     ]
    }
   ],
   "source": [
    "# Save the final model\n",
    "model.save(\"sign_language_model_final.keras\", save_format='keras')\n",
    "print(\"Model training complete and saved.\")"
   ]
  }
 ],
 "metadata": {
  "kernelspec": {
   "display_name": "Python 3",
   "language": "python",
   "name": "python3"
  },
  "language_info": {
   "codemirror_mode": {
    "name": "ipython",
    "version": 3
   },
   "file_extension": ".py",
   "mimetype": "text/x-python",
   "name": "python",
   "nbconvert_exporter": "python",
   "pygments_lexer": "ipython3",
   "version": "3.12.3"
  }
 },
 "nbformat": 4,
 "nbformat_minor": 2
}
